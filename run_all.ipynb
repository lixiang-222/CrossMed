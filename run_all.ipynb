{
 "cells": [
  {
   "cell_type": "code",
   "execution_count": null,
   "metadata": {},
   "outputs": [],
   "source": [
    "from baseline import drug_rec_from_pyhealth\n",
    "import argparse\n",
    "# from baselines.TRANS.test import run_Trans\n",
    "from baselines.CrossMed.main_ import main\n",
    "\n",
    "parser = argparse.ArgumentParser()\n",
    "parser.add_argument('--epochs', type=int, default=50, help='Number of epochs to train.')\n",
    "parser.add_argument('--test_epochs', type=int, default=10, help='Number of epochs to test.')\n",
    "parser.add_argument('--lr', type=float, default=1e-3, help='learning rate.')\n",
    "parser.add_argument('--model', type=str, default=\"CrossMed4\",\n",
    "                    help='Transformer, RETAIN, StageNet, KAME, TRANS, GRU, REFINE'\n",
    "                         'SafeDrug ,GAMENet, micron, MoleRec, GRASP, CausalMed'\n",
    "                         'CrossMed')\n",
    "parser.add_argument('--device_id', type=int, default=1, help=\"choose a gpu id\")\n",
    "parser.add_argument('--seed', type=int, default=222)\n",
    "parser.add_argument('--dataset', type=str, default=\"mimic3\", choices=['mimic3', 'mimic4'])\n",
    "parser.add_argument('--task', type=str, default=\"drug_rec\", choices=['drug_rec', 'diag_pred'])\n",
    "parser.add_argument('--batch_size', type=int, default=4, help='batch size')\n",
    "parser.add_argument('--dim', type=int, default=128, help='embedding dim')\n",
    "parser.add_argument('--dropout', type=float, default=0.7, help='dropout rate')\n",
    "parser.add_argument('--developer', type=bool, default=True, help='developer mode')\n",
    "parser.add_argument('--test', type=bool, default=False, help='test mode')\n",
    "parser.add_argument('--pretrain', type=bool, default=False, help='need pretrained model')\n",
    "parser.add_argument(\"--f\", \"--kernel-file\", dest=\"kernel_file\", default=None, help=\"Jupyter kernel file (ignored)\")\n",
    "args = parser.parse_args()\n",
    "\n"
   ]
  },
  {
   "cell_type": "markdown",
   "metadata": {},
   "source": [
    "# CrossMed2025"
   ]
  },
  {
   "cell_type": "code",
   "execution_count": null,
   "metadata": {},
   "outputs": [],
   "source": [
    "args.model = \"CrossMed4\"\n",
    "main(args)"
   ]
  },
  {
   "cell_type": "markdown",
   "metadata": {},
   "source": [
    "# RETAIN2016"
   ]
  },
  {
   "cell_type": "code",
   "execution_count": null,
   "metadata": {},
   "outputs": [],
   "source": [
    "drug_rec_from_pyhealth('retain', 'mimic3', 50, False)\n",
    "# 'retain', 'transformer', 'SafeDrug', 'GAMENet', 'micron', 'MoleRec', 'GRASP'"
   ]
  },
  {
   "cell_type": "markdown",
   "metadata": {},
   "source": [
    "# Transformer2017"
   ]
  },
  {
   "cell_type": "code",
   "execution_count": null,
   "metadata": {},
   "outputs": [],
   "source": [
    "drug_rec_from_pyhealth('transformer', 'mimic3', 50, False)"
   ]
  },
  {
   "cell_type": "markdown",
   "metadata": {},
   "source": [
    "# Grasp2018"
   ]
  },
  {
   "cell_type": "code",
   "execution_count": null,
   "metadata": {},
   "outputs": [],
   "source": [
    "drug_rec_from_pyhealth('GRASP', 'mimic3', 50, False)"
   ]
  },
  {
   "cell_type": "markdown",
   "metadata": {},
   "source": [
    "# KAME2018"
   ]
  },
  {
   "cell_type": "code",
   "execution_count": null,
   "metadata": {},
   "outputs": [],
   "source": [
    "drug_rec_from_pyhealth('KAME', 'mimic3', 50, False)"
   ]
  },
  {
   "cell_type": "markdown",
   "metadata": {},
   "source": [
    "# GAMENet2020"
   ]
  },
  {
   "cell_type": "code",
   "execution_count": null,
   "metadata": {},
   "outputs": [],
   "source": [
    "drug_rec_from_pyhealth('GAMENet', 'mimic3', 50, False)"
   ]
  },
  {
   "cell_type": "markdown",
   "metadata": {},
   "source": [
    "# StageNet2020"
   ]
  },
  {
   "cell_type": "code",
   "execution_count": null,
   "metadata": {},
   "outputs": [],
   "source": [
    "drug_rec_from_pyhealth('StageNet', 'mimic3', 50, False)"
   ]
  },
  {
   "cell_type": "markdown",
   "metadata": {},
   "source": [
    "# Safedrug2021"
   ]
  },
  {
   "cell_type": "code",
   "execution_count": null,
   "metadata": {},
   "outputs": [],
   "source": [
    "drug_rec_from_pyhealth('SafeDrug', 'mimic3', 50, False)"
   ]
  },
  {
   "cell_type": "markdown",
   "metadata": {},
   "source": [
    "# MICRON2021"
   ]
  },
  {
   "cell_type": "code",
   "execution_count": null,
   "metadata": {},
   "outputs": [],
   "source": [
    "drug_rec_from_pyhealth('micron', 'mimic3', 50, False)"
   ]
  },
  {
   "cell_type": "markdown",
   "metadata": {},
   "source": [
    "# MoleRec2023"
   ]
  },
  {
   "cell_type": "code",
   "execution_count": null,
   "metadata": {},
   "outputs": [],
   "source": [
    "drug_rec_from_pyhealth('MoleRec', 'mimic3', 50, False)"
   ]
  },
  {
   "cell_type": "markdown",
   "metadata": {},
   "source": [
    "# TRANS2024"
   ]
  },
  {
   "cell_type": "code",
   "execution_count": null,
   "metadata": {
    "ExecuteTime": {
     "end_time": "2025-08-24T12:39:48.910288800Z",
     "start_time": "2025-08-24T11:36:50.792462800Z"
    }
   },
   "outputs": [],
   "source": [
    "run_Trans(args)"
   ]
  }
 ],
 "metadata": {
  "kernelspec": {
   "display_name": "lishuoqiqi",
   "language": "python",
   "name": "python3"
  },
  "language_info": {
   "codemirror_mode": {
    "name": "ipython",
    "version": 3
   },
   "file_extension": ".py",
   "mimetype": "text/x-python",
   "name": "python",
   "nbconvert_exporter": "python",
   "pygments_lexer": "ipython3",
   "version": "3.8.17"
  }
 },
 "nbformat": 4,
 "nbformat_minor": 2
}

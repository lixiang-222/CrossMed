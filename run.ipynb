{
 "cells": [
  {
   "cell_type": "code",
   "execution_count": null,
   "metadata": {},
   "outputs": [],
   "source": [
    "import argparse\n",
    "# from baselines.TRANS.test import run_Trans\n",
    "from CrossMed.main_ import main\n",
    "\n",
    "parser = argparse.ArgumentParser()\n",
    "parser.add_argument('--epochs', type=int, default=50, help='Number of epochs to train.')\n",
    "parser.add_argument('--test_epochs', type=int, default=10, help='Number of epochs to test.')\n",
    "parser.add_argument('--lr', type=float, default=1e-3, help='learning rate.')\n",
    "parser.add_argument('--model', type=str, default=\"CrossMed\")\n",
    "parser.add_argument('--device_id', type=int, default=1, help=\"choose a gpu id\")\n",
    "parser.add_argument('--seed', type=int, default=222)\n",
    "parser.add_argument('--dataset', type=str, default=\"mimic3\", choices=['mimic3', 'mimic4'])\n",
    "parser.add_argument('--task', type=str, default=\"drug_rec\", choices=['drug_rec', 'diag_pred'])\n",
    "parser.add_argument('--batch_size', type=int, default=4, help='batch size')\n",
    "parser.add_argument('--dim', type=int, default=128, help='embedding dim')\n",
    "parser.add_argument('--dropout', type=float, default=0.7, help='dropout rate')\n",
    "parser.add_argument('--developer', type=bool, default=True, help='developer mode')\n",
    "parser.add_argument('--test', type=bool, default=False, help='test mode')\n",
    "parser.add_argument('--pretrain', type=bool, default=False, help='need pretrained model')\n",
    "parser.add_argument(\"--f\", \"--kernel-file\", dest=\"kernel_file\", default=None, help=\"Jupyter kernel file (ignored)\")\n",
    "args = parser.parse_args()\n",
    "\n"
   ]
  },
  {
   "cell_type": "markdown",
   "metadata": {},
   "source": [
    "# CrossMed"
   ]
  },
  {
   "cell_type": "code",
   "execution_count": null,
   "metadata": {},
   "outputs": [],
   "source": [
    "args.model = \"CrossMed\"\n",
    "main(args)"
   ]
  }
 ],
 "metadata": {
  "kernelspec": {
   "display_name": "lishuoqiqi",
   "language": "python",
   "name": "python3"
  },
  "language_info": {
   "codemirror_mode": {
    "name": "ipython",
    "version": 3
   },
   "file_extension": ".py",
   "mimetype": "text/x-python",
   "name": "python",
   "nbconvert_exporter": "python",
   "pygments_lexer": "ipython3",
   "version": "3.8.17"
  }
 },
 "nbformat": 4,
 "nbformat_minor": 2
}
